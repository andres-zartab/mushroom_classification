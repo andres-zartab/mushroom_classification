{
 "cells": [
  {
   "cell_type": "markdown",
   "metadata": {
    "_uuid": "2c826b57685298d9bff5b27999ade8a255cdf3e9"
   },
   "source": [
    "**In this notebook we will be applying classification techniques to the mushroom data. **\n",
    "\n",
    "**Aside from being able to properly classify if a mushroom is edible or not, the interpretation of the most relevenat features is briefly explained.**"
   ]
  },
  {
   "cell_type": "code",
   "execution_count": 1,
   "metadata": {
    "_cell_guid": "79c7e3d0-c299-4dcb-8224-4455121ee9b0",
    "_uuid": "d629ff2d2480ee46fbb7e2d37f6b5fab8052498a"
   },
   "outputs": [],
   "source": [
    "import numpy as np\n",
    "import pandas as pd\n",
    "from matplotlib import pyplot as plt"
   ]
  },
  {
   "cell_type": "code",
   "execution_count": 3,
   "metadata": {
    "_uuid": "0133fb26a13770bac4334a413434084c65f72522"
   },
   "outputs": [],
   "source": [
    "data = pd.read_csv(\"../input/mushrooms.csv\")"
   ]
  },
  {
   "cell_type": "markdown",
   "metadata": {
    "_uuid": "1f12841ce8634989041c36252e7527f0b79c86b2"
   },
   "source": [
    "Let's explore the data"
   ]
  },
  {
   "cell_type": "code",
   "execution_count": 4,
   "metadata": {
    "_uuid": "41053a91d8f60546d1a18ba7671ddba2e014d174"
   },
   "outputs": [
    {
     "data": {
      "text/html": [
       "<div>\n",
       "<style scoped>\n",
       "    .dataframe tbody tr th:only-of-type {\n",
       "        vertical-align: middle;\n",
       "    }\n",
       "\n",
       "    .dataframe tbody tr th {\n",
       "        vertical-align: top;\n",
       "    }\n",
       "\n",
       "    .dataframe thead th {\n",
       "        text-align: right;\n",
       "    }\n",
       "</style>\n",
       "<table border=\"1\" class=\"dataframe\">\n",
       "  <thead>\n",
       "    <tr style=\"text-align: right;\">\n",
       "      <th></th>\n",
       "      <th>class</th>\n",
       "      <th>cap-shape</th>\n",
       "      <th>cap-surface</th>\n",
       "      <th>cap-color</th>\n",
       "      <th>bruises</th>\n",
       "      <th>odor</th>\n",
       "      <th>gill-attachment</th>\n",
       "      <th>gill-spacing</th>\n",
       "      <th>gill-size</th>\n",
       "      <th>gill-color</th>\n",
       "      <th>...</th>\n",
       "      <th>stalk-surface-below-ring</th>\n",
       "      <th>stalk-color-above-ring</th>\n",
       "      <th>stalk-color-below-ring</th>\n",
       "      <th>veil-type</th>\n",
       "      <th>veil-color</th>\n",
       "      <th>ring-number</th>\n",
       "      <th>ring-type</th>\n",
       "      <th>spore-print-color</th>\n",
       "      <th>population</th>\n",
       "      <th>habitat</th>\n",
       "    </tr>\n",
       "  </thead>\n",
       "  <tbody>\n",
       "    <tr>\n",
       "      <th>0</th>\n",
       "      <td>p</td>\n",
       "      <td>x</td>\n",
       "      <td>s</td>\n",
       "      <td>n</td>\n",
       "      <td>t</td>\n",
       "      <td>p</td>\n",
       "      <td>f</td>\n",
       "      <td>c</td>\n",
       "      <td>n</td>\n",
       "      <td>k</td>\n",
       "      <td>...</td>\n",
       "      <td>s</td>\n",
       "      <td>w</td>\n",
       "      <td>w</td>\n",
       "      <td>p</td>\n",
       "      <td>w</td>\n",
       "      <td>o</td>\n",
       "      <td>p</td>\n",
       "      <td>k</td>\n",
       "      <td>s</td>\n",
       "      <td>u</td>\n",
       "    </tr>\n",
       "    <tr>\n",
       "      <th>1</th>\n",
       "      <td>e</td>\n",
       "      <td>x</td>\n",
       "      <td>s</td>\n",
       "      <td>y</td>\n",
       "      <td>t</td>\n",
       "      <td>a</td>\n",
       "      <td>f</td>\n",
       "      <td>c</td>\n",
       "      <td>b</td>\n",
       "      <td>k</td>\n",
       "      <td>...</td>\n",
       "      <td>s</td>\n",
       "      <td>w</td>\n",
       "      <td>w</td>\n",
       "      <td>p</td>\n",
       "      <td>w</td>\n",
       "      <td>o</td>\n",
       "      <td>p</td>\n",
       "      <td>n</td>\n",
       "      <td>n</td>\n",
       "      <td>g</td>\n",
       "    </tr>\n",
       "    <tr>\n",
       "      <th>2</th>\n",
       "      <td>e</td>\n",
       "      <td>b</td>\n",
       "      <td>s</td>\n",
       "      <td>w</td>\n",
       "      <td>t</td>\n",
       "      <td>l</td>\n",
       "      <td>f</td>\n",
       "      <td>c</td>\n",
       "      <td>b</td>\n",
       "      <td>n</td>\n",
       "      <td>...</td>\n",
       "      <td>s</td>\n",
       "      <td>w</td>\n",
       "      <td>w</td>\n",
       "      <td>p</td>\n",
       "      <td>w</td>\n",
       "      <td>o</td>\n",
       "      <td>p</td>\n",
       "      <td>n</td>\n",
       "      <td>n</td>\n",
       "      <td>m</td>\n",
       "    </tr>\n",
       "    <tr>\n",
       "      <th>3</th>\n",
       "      <td>p</td>\n",
       "      <td>x</td>\n",
       "      <td>y</td>\n",
       "      <td>w</td>\n",
       "      <td>t</td>\n",
       "      <td>p</td>\n",
       "      <td>f</td>\n",
       "      <td>c</td>\n",
       "      <td>n</td>\n",
       "      <td>n</td>\n",
       "      <td>...</td>\n",
       "      <td>s</td>\n",
       "      <td>w</td>\n",
       "      <td>w</td>\n",
       "      <td>p</td>\n",
       "      <td>w</td>\n",
       "      <td>o</td>\n",
       "      <td>p</td>\n",
       "      <td>k</td>\n",
       "      <td>s</td>\n",
       "      <td>u</td>\n",
       "    </tr>\n",
       "    <tr>\n",
       "      <th>4</th>\n",
       "      <td>e</td>\n",
       "      <td>x</td>\n",
       "      <td>s</td>\n",
       "      <td>g</td>\n",
       "      <td>f</td>\n",
       "      <td>n</td>\n",
       "      <td>f</td>\n",
       "      <td>w</td>\n",
       "      <td>b</td>\n",
       "      <td>k</td>\n",
       "      <td>...</td>\n",
       "      <td>s</td>\n",
       "      <td>w</td>\n",
       "      <td>w</td>\n",
       "      <td>p</td>\n",
       "      <td>w</td>\n",
       "      <td>o</td>\n",
       "      <td>e</td>\n",
       "      <td>n</td>\n",
       "      <td>a</td>\n",
       "      <td>g</td>\n",
       "    </tr>\n",
       "  </tbody>\n",
       "</table>\n",
       "<p>5 rows × 23 columns</p>\n",
       "</div>"
      ],
      "text/plain": [
       "  class cap-shape cap-surface cap-color bruises odor gill-attachment  \\\n",
       "0     p         x           s         n       t    p               f   \n",
       "1     e         x           s         y       t    a               f   \n",
       "2     e         b           s         w       t    l               f   \n",
       "3     p         x           y         w       t    p               f   \n",
       "4     e         x           s         g       f    n               f   \n",
       "\n",
       "  gill-spacing gill-size gill-color   ...   stalk-surface-below-ring  \\\n",
       "0            c         n          k   ...                          s   \n",
       "1            c         b          k   ...                          s   \n",
       "2            c         b          n   ...                          s   \n",
       "3            c         n          n   ...                          s   \n",
       "4            w         b          k   ...                          s   \n",
       "\n",
       "  stalk-color-above-ring stalk-color-below-ring veil-type veil-color  \\\n",
       "0                      w                      w         p          w   \n",
       "1                      w                      w         p          w   \n",
       "2                      w                      w         p          w   \n",
       "3                      w                      w         p          w   \n",
       "4                      w                      w         p          w   \n",
       "\n",
       "  ring-number ring-type spore-print-color population habitat  \n",
       "0           o         p                 k          s       u  \n",
       "1           o         p                 n          n       g  \n",
       "2           o         p                 n          n       m  \n",
       "3           o         p                 k          s       u  \n",
       "4           o         e                 n          a       g  \n",
       "\n",
       "[5 rows x 23 columns]"
      ]
     },
     "execution_count": 4,
     "metadata": {},
     "output_type": "execute_result"
    }
   ],
   "source": [
    "data.head()"
   ]
  },
  {
   "cell_type": "code",
   "execution_count": null,
   "metadata": {
    "_uuid": "5b6a67efa380d8036c13e66acb8df8ee3a8f5c73"
   },
   "outputs": [],
   "source": [
    "data.describe()"
   ]
  },
  {
   "cell_type": "markdown",
   "metadata": {
    "_uuid": "56ee3c22ce8a373f05ad76067d6f13cd9187128e"
   },
   "source": [
    "By exploring the data it is easy to realize that:\n",
    "1. All variables are categorical\n",
    "2. The response variable \"class\" presents two categories only (edible and poisonous)\n",
    "3. \"veil-type\" only has one category so it does not provide any useful information for the classification procedure\n"
   ]
  },
  {
   "cell_type": "code",
   "execution_count": null,
   "metadata": {
    "_uuid": "ddde9a3b70314947c4461dfd0a1c3ea99b493bd4"
   },
   "outputs": [],
   "source": [
    "#Let's discard \"veil-type\"\n",
    "data = data.drop(['veil-type'], axis=1)"
   ]
  },
  {
   "cell_type": "code",
   "execution_count": null,
   "metadata": {
    "_uuid": "dc8b4ffed3f38795e3109928750fd847f5b343f6"
   },
   "outputs": [],
   "source": [
    "#Checking for missing values\n",
    "data.isnull().sum()"
   ]
  },
  {
   "cell_type": "markdown",
   "metadata": {
    "_uuid": "64f6777b1eae21a56e5b88ff5dbeab437c3e552c"
   },
   "source": [
    "The data doesn't exhibit missing values and since all the variables are categorical there is no need to take outliers into consideration"
   ]
  },
  {
   "cell_type": "code",
   "execution_count": null,
   "metadata": {
    "_uuid": "f258ae407e1a9655edc107fa7988bb9f994b713f"
   },
   "outputs": [],
   "source": [
    "print(data.shape)\n",
    "data.groupby('class').size()"
   ]
  },
  {
   "cell_type": "markdown",
   "metadata": {
    "_uuid": "52c1a94cbc67cf0d4a675f4171d439725da861a3"
   },
   "source": [
    "The data contains 8124 observations evenly distributed across the two classes of mushrooms and 21 predictors (this will change once variables are converted to dummies)"
   ]
  },
  {
   "cell_type": "code",
   "execution_count": null,
   "metadata": {
    "_uuid": "fb961bc206fa09be092e0cf57de168566eb1c675"
   },
   "outputs": [],
   "source": [
    "data = pd.get_dummies(data, drop_first=True)\n",
    "data.head()"
   ]
  },
  {
   "cell_type": "markdown",
   "metadata": {
    "_uuid": "864f4dec31c0eadc730a42dd6014504e5106b809"
   },
   "source": [
    "After converting all variables to dummies, the response variable is 1 if mushroom is poisonous and 0 if not. In this case it is considered a \"success\" if the mushroom is indeed poisonous.\n",
    "Now let's separate the response variable from the predictors and create our train and test subsets:"
   ]
  },
  {
   "cell_type": "code",
   "execution_count": null,
   "metadata": {
    "_uuid": "3cb6fb451a42fe555d98230313bf75c03c4d3ea8"
   },
   "outputs": [],
   "source": [
    "y = data.iloc[:,0]\n",
    "X = data.iloc[:,1:]"
   ]
  },
  {
   "cell_type": "code",
   "execution_count": null,
   "metadata": {
    "_uuid": "d8d8394720c1bb19fd7a4b2a2faf2e1e0d8d49b1"
   },
   "outputs": [],
   "source": [
    "from sklearn.model_selection import train_test_split\n",
    "X_train, X_test, y_train, y_test = train_test_split(X, y, test_size=0.33, random_state=42)"
   ]
  },
  {
   "cell_type": "markdown",
   "metadata": {
    "_uuid": "f02d4339dc068204810648b1663bb3180a30d79c"
   },
   "source": [
    "First we'll be using XGBoost to define a classification model and identify important features:"
   ]
  },
  {
   "cell_type": "code",
   "execution_count": null,
   "metadata": {
    "_uuid": "e16eee01df9f8bfa5c339cbebe90baeea21a420a"
   },
   "outputs": [],
   "source": [
    "import xgboost\n",
    "from sklearn import metrics\n",
    "from xgboost import XGBClassifier"
   ]
  },
  {
   "cell_type": "code",
   "execution_count": null,
   "metadata": {
    "_uuid": "aedc7b1efd98951e93141d291847f6cfebfa43e3"
   },
   "outputs": [],
   "source": [
    "xgb = XGBClassifier()\n",
    "xgb.fit(X_train, y_train)\n",
    "y_pred_xgb = xgb.predict(X_test)"
   ]
  },
  {
   "cell_type": "code",
   "execution_count": null,
   "metadata": {
    "_uuid": "eb8814c9576f9b9413c4c3685fa39ef720908847"
   },
   "outputs": [],
   "source": [
    "auc_roc_xgb = metrics.roc_auc_score(y_test,y_pred_xgb)\n",
    "print(\"auc score = {}\".format(auc_roc_xgb))\n",
    "confusion_matrix_xgb = metrics.confusion_matrix(y_test,y_pred_xgb)\n",
    "confusion_matrix_xgb"
   ]
  },
  {
   "cell_type": "markdown",
   "metadata": {
    "_uuid": "83162860181534ad085bde72c8d9968568b99ede"
   },
   "source": [
    "XGBoost model is able to perfectly classify is a mushroom is edible or not. Let's look at the most important features in this model:"
   ]
  },
  {
   "cell_type": "code",
   "execution_count": null,
   "metadata": {
    "_uuid": "31a47709bcc6f7660403f0a49e73f5b01279e2f6"
   },
   "outputs": [],
   "source": [
    "#Plot\n",
    "xgboost.plot_importance(xgb)"
   ]
  },
  {
   "cell_type": "code",
   "execution_count": null,
   "metadata": {
    "_uuid": "6310c78f158876cc484739be003ef937fffbead0"
   },
   "outputs": [],
   "source": [
    "#List\n",
    "df_xgb = pd.DataFrame({'x': np.array(X.columns), 'y':xgb.feature_importances_})\n",
    "df_xgb.sort_values('y', ascending=False)"
   ]
  },
  {
   "cell_type": "markdown",
   "metadata": {
    "_uuid": "f198c9b3f5e12858082d6a07be12119e2ea8ce63"
   },
   "source": [
    "The most important features when classifying if a mushroom is edible or not are:\n",
    "* spore-print-color\n",
    "* odor\n",
    "* bruises\n",
    "* gill-size\n",
    "* gill-spacing\n",
    "\n",
    "**In order to get an interpretation out of these features let's fit a logistic regression to the data. This, because Logit is a linear model and its interpretation is easier:**"
   ]
  },
  {
   "cell_type": "code",
   "execution_count": null,
   "metadata": {
    "_uuid": "2e8ee3ccf3a42f2a6a0549f3df78934d5b31a56d"
   },
   "outputs": [],
   "source": [
    "from sklearn.linear_model import LogisticRegression"
   ]
  },
  {
   "cell_type": "code",
   "execution_count": null,
   "metadata": {
    "_uuid": "434dfcb7d8dd1047089448478a8dd3c133246b24"
   },
   "outputs": [],
   "source": [
    "logit = LogisticRegression()\n",
    "logit.fit(X_train, y_train)\n",
    "y_pred_log = logit.predict(X_test)"
   ]
  },
  {
   "cell_type": "code",
   "execution_count": null,
   "metadata": {
    "_uuid": "b4e98de63764d34969f4e7991d6446145d99289c"
   },
   "outputs": [],
   "source": [
    "auc_roc_log =metrics.roc_auc_score(y_test,y_pred_log)\n",
    "print(\"auc score = {}\".format(auc_roc_log))\n",
    "confusion_matrix_log = metrics.confusion_matrix(y_test,y_pred_log)\n",
    "confusion_matrix_log"
   ]
  },
  {
   "cell_type": "markdown",
   "metadata": {
    "_uuid": "2f17e4b0532dbca3d288a76f47f91db62cf7b70e"
   },
   "source": [
    "Logit performs almost as well as XGBoost and because of this we can safely interpret its results. \n",
    "\n",
    "**The coefficients of the logit regression can be used to calculate the Odds Ratio of each variable. In this case the Odds Ratio is calculated against the base (the dummy variable that was left out) and this happens to all features since they all are categorical.**"
   ]
  },
  {
   "cell_type": "code",
   "execution_count": null,
   "metadata": {
    "_uuid": "e3b7444cfc3be1d56322657e66466107e2d22142"
   },
   "outputs": [],
   "source": [
    "df_log = pd.DataFrame({'x': np.array(X.columns), 'beta':logit.coef_[0]})\n",
    "df_log['OR'] = np.exp(df_log['beta'])\n",
    "df_log"
   ]
  },
  {
   "cell_type": "markdown",
   "metadata": {
    "_uuid": "70cfd42f21b7cfbb88e453eb956753494e25acda"
   },
   "source": [
    "**Let's check the OR (Odds Ratio) for the most important features found in the XGBoost model:\n",
    "\n",
    "**It is important to notice that a bigger OR corresponds to a bigger magnitude of the odds of having a \"success\". In this case this represents the chances of the mushroom being poisonous. So a bigger OR is an indication of danger.****"
   ]
  },
  {
   "cell_type": "code",
   "execution_count": null,
   "metadata": {
    "_uuid": "7c72e3cb07f1301349f1ef6212c4e6eded6593a7"
   },
   "outputs": [],
   "source": [
    "df_log[df_log['x'].str.contains(\"spore-print-color\")]"
   ]
  },
  {
   "cell_type": "markdown",
   "metadata": {
    "_uuid": "fc5867dbc3020027c93b9ef32fec3e7472d80cd3"
   },
   "source": [
    "***In this case the base corresponds to spore-print-color = buff. Given the OR's for the rest of colors we can conclude that the most dangerous colors for spore print are (in order of magnitude):***\n",
    "\n",
    "* Green\n",
    "* White\n",
    "* Chocolate"
   ]
  },
  {
   "cell_type": "code",
   "execution_count": null,
   "metadata": {
    "_uuid": "adba84eb49be9614355ce7a9645d915a8bd293bf"
   },
   "outputs": [],
   "source": [
    "df_log[df_log['x'].str.contains(\"odor\")]"
   ]
  },
  {
   "cell_type": "markdown",
   "metadata": {
    "_uuid": "4a1a50733458a98ea042cdaa490f6402efdfed42"
   },
   "source": [
    "***In this case the base corresponds to odor = almond. Given the OR's for the rest of odors we can conclude that the most dangerous odors are (in order of magnitude):***\n",
    "\n",
    "* Creosote\n",
    "* Pungent\n",
    "* Foul\n",
    "* Fishy\n",
    "* Spicy\n",
    "* Musty"
   ]
  },
  {
   "cell_type": "code",
   "execution_count": null,
   "metadata": {
    "_uuid": "4aaec1209f92936ece3246a1191c24b1e0d9c0e2"
   },
   "outputs": [],
   "source": [
    "df_log[df_log['x'].str.contains(\"bruises\")]"
   ]
  },
  {
   "cell_type": "markdown",
   "metadata": {
    "_uuid": "9086f3e75dcca1dddb3b9eeecef91342a9b42749"
   },
   "source": [
    "***In this case the base corresponds to bruises = False. Given the OR for having bruises it is safer if a mushroom presents bruises than if it doesn't***\n"
   ]
  },
  {
   "cell_type": "code",
   "execution_count": null,
   "metadata": {
    "_uuid": "0c35f5994bb524b3cc1b3e4c897f93410418e440"
   },
   "outputs": [],
   "source": [
    "df_log[df_log['x'].str.contains(\"gill-size\")]"
   ]
  },
  {
   "cell_type": "markdown",
   "metadata": {
    "_uuid": "3990bddef0f810807541b8be255d93b17f4438d6"
   },
   "source": [
    "***In this case the base corresponds to gill size = broad. Given the OR for gill size = narrow it is safer if a mushroom presents broad gill size than if it doesn't***"
   ]
  },
  {
   "cell_type": "code",
   "execution_count": null,
   "metadata": {
    "_uuid": "82e3e79fe318e74e32526fd748fdf14e2414f854"
   },
   "outputs": [],
   "source": [
    "df_log[df_log['x'].str.contains(\"gill-spacing\")]"
   ]
  },
  {
   "cell_type": "markdown",
   "metadata": {
    "_uuid": "5f45cb1e621c39ae3f3f5de69f29704332d3bcb2"
   },
   "source": [
    "***In this case the base corresponds to gill spacing = close. Given the OR for gill spacing = crowded it is safer if a mushroom presents crowded gill spacing than if it doesn't***\n"
   ]
  }
 ],
 "metadata": {
  "kernelspec": {
   "display_name": "Python 3",
   "language": "python",
   "name": "python3"
  },
  "language_info": {
   "codemirror_mode": {
    "name": "ipython",
    "version": 3
   },
   "file_extension": ".py",
   "mimetype": "text/x-python",
   "name": "python",
   "nbconvert_exporter": "python",
   "pygments_lexer": "ipython3",
   "version": "3.6.7"
  }
 },
 "nbformat": 4,
 "nbformat_minor": 1
}
